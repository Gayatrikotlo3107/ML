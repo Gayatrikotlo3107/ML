{
 "cells": [
  {
   "cell_type": "markdown",
   "metadata": {},
   "source": [
    "### Case study 1: (15 points)\n",
    "#####  your total (60 points) will divided by 4 to get 15 points for this case study"
   ]
  },
  {
   "cell_type": "markdown",
   "metadata": {},
   "source": [
    "### Predicting the number of likes on Instagram using Regression Techniques\n",
    "\n",
    "One billion people use Instagram every month, which makes it one of the most popular social networks worldwide. \n",
    "Currently, there is an enormous scope market with the potential to be optimized to increase Instagram posts popularity and engagement.\n",
    "\n",
    "Ref: https://upcommons.upc.edu/bitstream/handle/2117/339937/152579.pdf?sequence=1&isAllowed=y\n"
   ]
  },
  {
   "cell_type": "markdown",
   "metadata": {},
   "source": [
    "---\n",
    "### The Instagram Users Datetime Posts Dataset   \n",
    "We explore the Instagram Users Datetime Posts dataset, which contains info of 1089 users' posts.\n",
    "\n",
    "The dataset can estimate the number of likes/likes scores given a post based on different features such as the time and date of the post, type of the post, number of tags, numbers of comments, or how many days the post has been posted. \n",
    "\n",
    "--\n",
    "### Objective:\n",
    "#### Estimate the number of likes based on number of tags, numbers of comments, or days passed from post.\n",
    "---"
   ]
  },
  {
   "cell_type": "markdown",
   "metadata": {},
   "source": [
    "### Steps to do:"
   ]
  },
  {
   "cell_type": "markdown",
   "metadata": {},
   "source": [
    "    1- import libraries and initialize the plotting environment using matplotlib and/or seaborn  (1 point)"
   ]
  },
  {
   "cell_type": "code",
   "execution_count": 1,
   "metadata": {},
   "outputs": [],
   "source": [
    "from random import random\n",
    "from random import randint\n",
    "from random import seed\n",
    "from numpy import arange\n",
    "from numpy import mean\n",
    "from numpy import std\n",
    "from numpy import absolute\n",
    "from sklearn.datasets import make_regression\n",
    "from sklearn.linear_model import HuberRegressor\n",
    "from sklearn.model_selection import cross_val_score\n",
    "from sklearn.model_selection import RepeatedKFold\n",
    "from matplotlib import pyplot\n",
    "import seaborn as sns \n",
    "from sklearn import datasets\n",
    "import pandas as pd\n",
    "import matplotlib.pyplot as plt\n",
    "import numpy as np\n",
    "from sklearn import preprocessing\n",
    "\n",
    "\n",
    "### Set up plotting environment\n",
    "# Visualization libraries\n",
    "import matplotlib.pyplot as plt\n",
    "%matplotlib inline\n",
    "import seaborn as sns"
   ]
  },
  {
   "cell_type": "markdown",
   "metadata": {},
   "source": [
    "    2- Loading data into Panda datafram, name it insta_df (1 point)\n",
    "        * load only the first 2000 rows using the \"nrows\" parameter\n",
    "\n",
    "#### Note: you should read just the 2000 examples of the data. \n",
    "\n",
    "Otherwise, your execution time for each command will be long since the data has 178922 samples."
   ]
  },
  {
   "cell_type": "code",
   "execution_count": 2,
   "metadata": {},
   "outputs": [],
   "source": [
    "# write you code here\n",
    "\n",
    "##\n",
    "insta_df = pd.read_csv('Instagram_Data.csv', nrows=2000)"
   ]
  },
  {
   "cell_type": "markdown",
   "metadata": {},
   "source": [
    "    3- Show the 10 first rows of the data, its shape, and the coulmens names: (3 points)"
   ]
  },
  {
   "cell_type": "code",
   "execution_count": 3,
   "metadata": {},
   "outputs": [
    {
     "data": {
      "text/html": [
       "<div>\n",
       "<style scoped>\n",
       "    .dataframe tbody tr th:only-of-type {\n",
       "        vertical-align: middle;\n",
       "    }\n",
       "\n",
       "    .dataframe tbody tr th {\n",
       "        vertical-align: top;\n",
       "    }\n",
       "\n",
       "    .dataframe thead th {\n",
       "        text-align: right;\n",
       "    }\n",
       "</style>\n",
       "<table border=\"1\" class=\"dataframe\">\n",
       "  <thead>\n",
       "    <tr style=\"text-align: right;\">\n",
       "      <th></th>\n",
       "      <th>User uuid</th>\n",
       "      <th>Likes</th>\n",
       "      <th>Days passed from post</th>\n",
       "      <th>Likes Score</th>\n",
       "      <th>Type</th>\n",
       "      <th>Numer of Tags</th>\n",
       "      <th>Numer of Comments</th>\n",
       "      <th>Date Posted</th>\n",
       "      <th>Year</th>\n",
       "      <th>Month</th>\n",
       "      <th>Day</th>\n",
       "      <th>Hour</th>\n",
       "      <th>Minute</th>\n",
       "    </tr>\n",
       "  </thead>\n",
       "  <tbody>\n",
       "    <tr>\n",
       "      <th>0</th>\n",
       "      <td>1</td>\n",
       "      <td>506</td>\n",
       "      <td>657</td>\n",
       "      <td>0.74</td>\n",
       "      <td>Image</td>\n",
       "      <td>3</td>\n",
       "      <td>11</td>\n",
       "      <td>2019-05-12 21:18:39</td>\n",
       "      <td>2019</td>\n",
       "      <td>5</td>\n",
       "      <td>12</td>\n",
       "      <td>21</td>\n",
       "      <td>18</td>\n",
       "    </tr>\n",
       "    <tr>\n",
       "      <th>1</th>\n",
       "      <td>1</td>\n",
       "      <td>385</td>\n",
       "      <td>657</td>\n",
       "      <td>0.57</td>\n",
       "      <td>Image</td>\n",
       "      <td>0</td>\n",
       "      <td>1</td>\n",
       "      <td>2019-05-12 14:25:55</td>\n",
       "      <td>2019</td>\n",
       "      <td>5</td>\n",
       "      <td>12</td>\n",
       "      <td>14</td>\n",
       "      <td>25</td>\n",
       "    </tr>\n",
       "    <tr>\n",
       "      <th>2</th>\n",
       "      <td>1</td>\n",
       "      <td>373</td>\n",
       "      <td>666</td>\n",
       "      <td>0.55</td>\n",
       "      <td>Images</td>\n",
       "      <td>4</td>\n",
       "      <td>15</td>\n",
       "      <td>2019-05-03 15:18:37</td>\n",
       "      <td>2019</td>\n",
       "      <td>5</td>\n",
       "      <td>3</td>\n",
       "      <td>15</td>\n",
       "      <td>18</td>\n",
       "    </tr>\n",
       "    <tr>\n",
       "      <th>3</th>\n",
       "      <td>1</td>\n",
       "      <td>312</td>\n",
       "      <td>667</td>\n",
       "      <td>0.46</td>\n",
       "      <td>Images</td>\n",
       "      <td>4</td>\n",
       "      <td>1</td>\n",
       "      <td>2019-05-02 16:40:38</td>\n",
       "      <td>2019</td>\n",
       "      <td>5</td>\n",
       "      <td>2</td>\n",
       "      <td>16</td>\n",
       "      <td>40</td>\n",
       "    </tr>\n",
       "    <tr>\n",
       "      <th>4</th>\n",
       "      <td>1</td>\n",
       "      <td>513</td>\n",
       "      <td>674</td>\n",
       "      <td>0.75</td>\n",
       "      <td>Images</td>\n",
       "      <td>5</td>\n",
       "      <td>0</td>\n",
       "      <td>2019-04-25 16:51:58</td>\n",
       "      <td>2019</td>\n",
       "      <td>4</td>\n",
       "      <td>25</td>\n",
       "      <td>16</td>\n",
       "      <td>51</td>\n",
       "    </tr>\n",
       "    <tr>\n",
       "      <th>5</th>\n",
       "      <td>1</td>\n",
       "      <td>539</td>\n",
       "      <td>677</td>\n",
       "      <td>0.79</td>\n",
       "      <td>Images</td>\n",
       "      <td>3</td>\n",
       "      <td>3</td>\n",
       "      <td>2019-04-22 20:03:00</td>\n",
       "      <td>2019</td>\n",
       "      <td>4</td>\n",
       "      <td>22</td>\n",
       "      <td>20</td>\n",
       "      <td>3</td>\n",
       "    </tr>\n",
       "    <tr>\n",
       "      <th>6</th>\n",
       "      <td>1</td>\n",
       "      <td>330</td>\n",
       "      <td>677</td>\n",
       "      <td>0.49</td>\n",
       "      <td>Image</td>\n",
       "      <td>0</td>\n",
       "      <td>3</td>\n",
       "      <td>2019-04-22 15:07:34</td>\n",
       "      <td>2019</td>\n",
       "      <td>4</td>\n",
       "      <td>22</td>\n",
       "      <td>15</td>\n",
       "      <td>7</td>\n",
       "    </tr>\n",
       "    <tr>\n",
       "      <th>7</th>\n",
       "      <td>1</td>\n",
       "      <td>472</td>\n",
       "      <td>681</td>\n",
       "      <td>0.69</td>\n",
       "      <td>Images</td>\n",
       "      <td>3</td>\n",
       "      <td>7</td>\n",
       "      <td>2019-04-18 14:44:36</td>\n",
       "      <td>2019</td>\n",
       "      <td>4</td>\n",
       "      <td>18</td>\n",
       "      <td>14</td>\n",
       "      <td>44</td>\n",
       "    </tr>\n",
       "    <tr>\n",
       "      <th>8</th>\n",
       "      <td>1</td>\n",
       "      <td>272</td>\n",
       "      <td>682</td>\n",
       "      <td>0.40</td>\n",
       "      <td>Image</td>\n",
       "      <td>0</td>\n",
       "      <td>0</td>\n",
       "      <td>2019-04-17 15:42:56</td>\n",
       "      <td>2019</td>\n",
       "      <td>4</td>\n",
       "      <td>17</td>\n",
       "      <td>15</td>\n",
       "      <td>42</td>\n",
       "    </tr>\n",
       "    <tr>\n",
       "      <th>9</th>\n",
       "      <td>1</td>\n",
       "      <td>304</td>\n",
       "      <td>688</td>\n",
       "      <td>0.45</td>\n",
       "      <td>Images</td>\n",
       "      <td>3</td>\n",
       "      <td>0</td>\n",
       "      <td>2019-04-11 15:00:05</td>\n",
       "      <td>2019</td>\n",
       "      <td>4</td>\n",
       "      <td>11</td>\n",
       "      <td>15</td>\n",
       "      <td>0</td>\n",
       "    </tr>\n",
       "  </tbody>\n",
       "</table>\n",
       "</div>"
      ],
      "text/plain": [
       "   User uuid  Likes  Days passed from post  Likes Score    Type  \\\n",
       "0          1    506                    657         0.74   Image   \n",
       "1          1    385                    657         0.57   Image   \n",
       "2          1    373                    666         0.55  Images   \n",
       "3          1    312                    667         0.46  Images   \n",
       "4          1    513                    674         0.75  Images   \n",
       "5          1    539                    677         0.79  Images   \n",
       "6          1    330                    677         0.49   Image   \n",
       "7          1    472                    681         0.69  Images   \n",
       "8          1    272                    682         0.40   Image   \n",
       "9          1    304                    688         0.45  Images   \n",
       "\n",
       "   Numer of Tags  Numer of Comments          Date Posted  Year  Month  Day  \\\n",
       "0              3                 11  2019-05-12 21:18:39  2019      5   12   \n",
       "1              0                  1  2019-05-12 14:25:55  2019      5   12   \n",
       "2              4                 15  2019-05-03 15:18:37  2019      5    3   \n",
       "3              4                  1  2019-05-02 16:40:38  2019      5    2   \n",
       "4              5                  0  2019-04-25 16:51:58  2019      4   25   \n",
       "5              3                  3  2019-04-22 20:03:00  2019      4   22   \n",
       "6              0                  3  2019-04-22 15:07:34  2019      4   22   \n",
       "7              3                  7  2019-04-18 14:44:36  2019      4   18   \n",
       "8              0                  0  2019-04-17 15:42:56  2019      4   17   \n",
       "9              3                  0  2019-04-11 15:00:05  2019      4   11   \n",
       "\n",
       "   Hour  Minute  \n",
       "0    21      18  \n",
       "1    14      25  \n",
       "2    15      18  \n",
       "3    16      40  \n",
       "4    16      51  \n",
       "5    20       3  \n",
       "6    15       7  \n",
       "7    14      44  \n",
       "8    15      42  \n",
       "9    15       0  "
      ]
     },
     "execution_count": 3,
     "metadata": {},
     "output_type": "execute_result"
    }
   ],
   "source": [
    "# 10 first rows of the data\n",
    "insta_df.head(10)"
   ]
  },
  {
   "cell_type": "code",
   "execution_count": 4,
   "metadata": {},
   "outputs": [
    {
     "data": {
      "text/plain": [
       "(2000, 13)"
      ]
     },
     "execution_count": 4,
     "metadata": {},
     "output_type": "execute_result"
    }
   ],
   "source": [
    "# insta_df shape\n",
    "insta_df.shape"
   ]
  },
  {
   "cell_type": "code",
   "execution_count": 5,
   "metadata": {},
   "outputs": [
    {
     "data": {
      "text/plain": [
       "Index(['User uuid', 'Likes', 'Days passed from post', 'Likes Score', 'Type',\n",
       "       'Numer of Tags', 'Numer of Comments', 'Date Posted', 'Year', 'Month',\n",
       "       'Day', 'Hour', 'Minute'],\n",
       "      dtype='object')"
      ]
     },
     "execution_count": 5,
     "metadata": {},
     "output_type": "execute_result"
    }
   ],
   "source": [
    "# insta_df column names\n",
    "insta_df.columns"
   ]
  },
  {
   "cell_type": "markdown",
   "metadata": {},
   "source": [
    "    4- Check the number of samples in the dataset (1 point)"
   ]
  },
  {
   "cell_type": "code",
   "execution_count": 6,
   "metadata": {},
   "outputs": [
    {
     "data": {
      "text/plain": [
       "2000"
      ]
     },
     "execution_count": 6,
     "metadata": {},
     "output_type": "execute_result"
    }
   ],
   "source": [
    "# insta_df row numbers: \n",
    "len(insta_df)"
   ]
  },
  {
   "cell_type": "markdown",
   "metadata": {},
   "source": [
    "    5- Check the data type of each column ( 1 point)"
   ]
  },
  {
   "cell_type": "code",
   "execution_count": 7,
   "metadata": {},
   "outputs": [
    {
     "data": {
      "text/plain": [
       "User uuid                  int64\n",
       "Likes                      int64\n",
       "Days passed from post      int64\n",
       "Likes Score              float64\n",
       "Type                      object\n",
       "Numer of Tags              int64\n",
       "Numer of Comments          int64\n",
       "Date Posted               object\n",
       "Year                       int64\n",
       "Month                      int64\n",
       "Day                        int64\n",
       "Hour                       int64\n",
       "Minute                     int64\n",
       "dtype: object"
      ]
     },
     "execution_count": 7,
     "metadata": {},
     "output_type": "execute_result"
    }
   ],
   "source": [
    "# Print datatypes\n",
    "insta_df.dtypes\n"
   ]
  },
  {
   "cell_type": "markdown",
   "metadata": {},
   "source": [
    "    6- Remove columns from the dataframe:\n",
    "\n",
    "        a. Remove user id from the insta_df as there is no useful information from this column. (1 point)\n",
    "\n",
    "        b. Remove the Likes Score since it is calculated from the number of likes. (1 point)\n",
    "\n",
    "        c. Remove the date and time columns from the data frame since our goal is not to consider the posted date and time related to the number of likes (2 points) "
   ]
  },
  {
   "cell_type": "code",
   "execution_count": 8,
   "metadata": {},
   "outputs": [
    {
     "data": {
      "text/html": [
       "<div>\n",
       "<style scoped>\n",
       "    .dataframe tbody tr th:only-of-type {\n",
       "        vertical-align: middle;\n",
       "    }\n",
       "\n",
       "    .dataframe tbody tr th {\n",
       "        vertical-align: top;\n",
       "    }\n",
       "\n",
       "    .dataframe thead th {\n",
       "        text-align: right;\n",
       "    }\n",
       "</style>\n",
       "<table border=\"1\" class=\"dataframe\">\n",
       "  <thead>\n",
       "    <tr style=\"text-align: right;\">\n",
       "      <th></th>\n",
       "      <th>Likes</th>\n",
       "      <th>Days passed from post</th>\n",
       "      <th>Type</th>\n",
       "      <th>Numer of Tags</th>\n",
       "      <th>Numer of Comments</th>\n",
       "    </tr>\n",
       "  </thead>\n",
       "  <tbody>\n",
       "    <tr>\n",
       "      <th>0</th>\n",
       "      <td>506</td>\n",
       "      <td>657</td>\n",
       "      <td>Image</td>\n",
       "      <td>3</td>\n",
       "      <td>11</td>\n",
       "    </tr>\n",
       "    <tr>\n",
       "      <th>1</th>\n",
       "      <td>385</td>\n",
       "      <td>657</td>\n",
       "      <td>Image</td>\n",
       "      <td>0</td>\n",
       "      <td>1</td>\n",
       "    </tr>\n",
       "    <tr>\n",
       "      <th>2</th>\n",
       "      <td>373</td>\n",
       "      <td>666</td>\n",
       "      <td>Images</td>\n",
       "      <td>4</td>\n",
       "      <td>15</td>\n",
       "    </tr>\n",
       "    <tr>\n",
       "      <th>3</th>\n",
       "      <td>312</td>\n",
       "      <td>667</td>\n",
       "      <td>Images</td>\n",
       "      <td>4</td>\n",
       "      <td>1</td>\n",
       "    </tr>\n",
       "    <tr>\n",
       "      <th>4</th>\n",
       "      <td>513</td>\n",
       "      <td>674</td>\n",
       "      <td>Images</td>\n",
       "      <td>5</td>\n",
       "      <td>0</td>\n",
       "    </tr>\n",
       "    <tr>\n",
       "      <th>...</th>\n",
       "      <td>...</td>\n",
       "      <td>...</td>\n",
       "      <td>...</td>\n",
       "      <td>...</td>\n",
       "      <td>...</td>\n",
       "    </tr>\n",
       "    <tr>\n",
       "      <th>1995</th>\n",
       "      <td>58</td>\n",
       "      <td>186</td>\n",
       "      <td>Image</td>\n",
       "      <td>0</td>\n",
       "      <td>84</td>\n",
       "    </tr>\n",
       "    <tr>\n",
       "      <th>1996</th>\n",
       "      <td>81</td>\n",
       "      <td>193</td>\n",
       "      <td>Video</td>\n",
       "      <td>4</td>\n",
       "      <td>5</td>\n",
       "    </tr>\n",
       "    <tr>\n",
       "      <th>1997</th>\n",
       "      <td>251</td>\n",
       "      <td>194</td>\n",
       "      <td>Image</td>\n",
       "      <td>4</td>\n",
       "      <td>13</td>\n",
       "    </tr>\n",
       "    <tr>\n",
       "      <th>1998</th>\n",
       "      <td>962</td>\n",
       "      <td>197</td>\n",
       "      <td>Images</td>\n",
       "      <td>0</td>\n",
       "      <td>38</td>\n",
       "    </tr>\n",
       "    <tr>\n",
       "      <th>1999</th>\n",
       "      <td>179</td>\n",
       "      <td>198</td>\n",
       "      <td>Images</td>\n",
       "      <td>5</td>\n",
       "      <td>5</td>\n",
       "    </tr>\n",
       "  </tbody>\n",
       "</table>\n",
       "<p>2000 rows × 5 columns</p>\n",
       "</div>"
      ],
      "text/plain": [
       "      Likes  Days passed from post    Type  Numer of Tags  Numer of Comments\n",
       "0       506                    657   Image              3                 11\n",
       "1       385                    657   Image              0                  1\n",
       "2       373                    666  Images              4                 15\n",
       "3       312                    667  Images              4                  1\n",
       "4       513                    674  Images              5                  0\n",
       "...     ...                    ...     ...            ...                ...\n",
       "1995     58                    186   Image              0                 84\n",
       "1996     81                    193   Video              4                  5\n",
       "1997    251                    194   Image              4                 13\n",
       "1998    962                    197  Images              0                 38\n",
       "1999    179                    198  Images              5                  5\n",
       "\n",
       "[2000 rows x 5 columns]"
      ]
     },
     "execution_count": 8,
     "metadata": {},
     "output_type": "execute_result"
    }
   ],
   "source": [
    "# Remove User uuid\n",
    "insta_df=insta_df.drop(columns=['User uuid'])\n",
    "\n",
    "# Remove User Likes Score\n",
    "insta_df=insta_df.drop(columns=['Likes Score'])\n",
    "\n",
    "# Remove all columns between column index 1 to 3\n",
    "cols = insta_df.columns[5:]\n",
    "insta_df=insta_df.drop(columns =cols)\n",
    "# show the insta_df after you remove the required columns\n",
    "insta_df"
   ]
  },
  {
   "cell_type": "markdown",
   "metadata": {},
   "source": [
    "    7- Check how many unique values are on the \"Type\" column. ( 1 point)\n",
    "        * you can use the unique() function if you wish"
   ]
  },
  {
   "cell_type": "code",
   "execution_count": 9,
   "metadata": {},
   "outputs": [
    {
     "data": {
      "text/plain": [
       "array(['Image', 'Images', 'Video'], dtype=object)"
      ]
     },
     "execution_count": 9,
     "metadata": {},
     "output_type": "execute_result"
    }
   ],
   "source": [
    "# write you code here\n",
    "insta_df['Type'].unique()"
   ]
  },
  {
   "cell_type": "markdown",
   "metadata": {},
   "source": [
    "    8- Use label encoder to change the \"Type\" coulmn values to numeric values (2 point)"
   ]
  },
  {
   "cell_type": "code",
   "execution_count": 10,
   "metadata": {},
   "outputs": [
    {
     "data": {
      "text/html": [
       "<div>\n",
       "<style scoped>\n",
       "    .dataframe tbody tr th:only-of-type {\n",
       "        vertical-align: middle;\n",
       "    }\n",
       "\n",
       "    .dataframe tbody tr th {\n",
       "        vertical-align: top;\n",
       "    }\n",
       "\n",
       "    .dataframe thead th {\n",
       "        text-align: right;\n",
       "    }\n",
       "</style>\n",
       "<table border=\"1\" class=\"dataframe\">\n",
       "  <thead>\n",
       "    <tr style=\"text-align: right;\">\n",
       "      <th></th>\n",
       "      <th>Likes</th>\n",
       "      <th>Days passed from post</th>\n",
       "      <th>Type</th>\n",
       "      <th>Numer of Tags</th>\n",
       "      <th>Numer of Comments</th>\n",
       "    </tr>\n",
       "  </thead>\n",
       "  <tbody>\n",
       "    <tr>\n",
       "      <th>0</th>\n",
       "      <td>506</td>\n",
       "      <td>657</td>\n",
       "      <td>0</td>\n",
       "      <td>3</td>\n",
       "      <td>11</td>\n",
       "    </tr>\n",
       "    <tr>\n",
       "      <th>1</th>\n",
       "      <td>385</td>\n",
       "      <td>657</td>\n",
       "      <td>0</td>\n",
       "      <td>0</td>\n",
       "      <td>1</td>\n",
       "    </tr>\n",
       "    <tr>\n",
       "      <th>2</th>\n",
       "      <td>373</td>\n",
       "      <td>666</td>\n",
       "      <td>1</td>\n",
       "      <td>4</td>\n",
       "      <td>15</td>\n",
       "    </tr>\n",
       "    <tr>\n",
       "      <th>3</th>\n",
       "      <td>312</td>\n",
       "      <td>667</td>\n",
       "      <td>1</td>\n",
       "      <td>4</td>\n",
       "      <td>1</td>\n",
       "    </tr>\n",
       "    <tr>\n",
       "      <th>4</th>\n",
       "      <td>513</td>\n",
       "      <td>674</td>\n",
       "      <td>1</td>\n",
       "      <td>5</td>\n",
       "      <td>0</td>\n",
       "    </tr>\n",
       "    <tr>\n",
       "      <th>...</th>\n",
       "      <td>...</td>\n",
       "      <td>...</td>\n",
       "      <td>...</td>\n",
       "      <td>...</td>\n",
       "      <td>...</td>\n",
       "    </tr>\n",
       "    <tr>\n",
       "      <th>1995</th>\n",
       "      <td>58</td>\n",
       "      <td>186</td>\n",
       "      <td>0</td>\n",
       "      <td>0</td>\n",
       "      <td>84</td>\n",
       "    </tr>\n",
       "    <tr>\n",
       "      <th>1996</th>\n",
       "      <td>81</td>\n",
       "      <td>193</td>\n",
       "      <td>2</td>\n",
       "      <td>4</td>\n",
       "      <td>5</td>\n",
       "    </tr>\n",
       "    <tr>\n",
       "      <th>1997</th>\n",
       "      <td>251</td>\n",
       "      <td>194</td>\n",
       "      <td>0</td>\n",
       "      <td>4</td>\n",
       "      <td>13</td>\n",
       "    </tr>\n",
       "    <tr>\n",
       "      <th>1998</th>\n",
       "      <td>962</td>\n",
       "      <td>197</td>\n",
       "      <td>1</td>\n",
       "      <td>0</td>\n",
       "      <td>38</td>\n",
       "    </tr>\n",
       "    <tr>\n",
       "      <th>1999</th>\n",
       "      <td>179</td>\n",
       "      <td>198</td>\n",
       "      <td>1</td>\n",
       "      <td>5</td>\n",
       "      <td>5</td>\n",
       "    </tr>\n",
       "  </tbody>\n",
       "</table>\n",
       "<p>2000 rows × 5 columns</p>\n",
       "</div>"
      ],
      "text/plain": [
       "      Likes  Days passed from post  Type  Numer of Tags  Numer of Comments\n",
       "0       506                    657     0              3                 11\n",
       "1       385                    657     0              0                  1\n",
       "2       373                    666     1              4                 15\n",
       "3       312                    667     1              4                  1\n",
       "4       513                    674     1              5                  0\n",
       "...     ...                    ...   ...            ...                ...\n",
       "1995     58                    186     0              0                 84\n",
       "1996     81                    193     2              4                  5\n",
       "1997    251                    194     0              4                 13\n",
       "1998    962                    197     1              0                 38\n",
       "1999    179                    198     1              5                  5\n",
       "\n",
       "[2000 rows x 5 columns]"
      ]
     },
     "execution_count": 10,
     "metadata": {},
     "output_type": "execute_result"
    }
   ],
   "source": [
    "# Encode \"Type\"\n",
    "from sklearn import preprocessing\n",
    "\n",
    "insta_df['Type']=preprocessing.LabelEncoder().fit_transform(insta_df['Type'])\n",
    "##\n",
    "insta_df"
   ]
  },
  {
   "cell_type": "markdown",
   "metadata": {},
   "source": [
    "    9- Check how many NaN values are in each column: \n",
    "\n",
    "        a. How many NaNs as total ( 1 point)\n",
    "\n",
    "        b. How many NaNs as a percentage of overall data ( 1 point)"
   ]
  },
  {
   "cell_type": "code",
   "execution_count": 11,
   "metadata": {},
   "outputs": [
    {
     "data": {
      "text/plain": [
       "Likes                    0\n",
       "Days passed from post    0\n",
       "Type                     0\n",
       "Numer of Tags            0\n",
       "Numer of Comments        0\n",
       "dtype: int64"
      ]
     },
     "execution_count": 11,
     "metadata": {},
     "output_type": "execute_result"
    }
   ],
   "source": [
    "# a. How many NaNs as total\n",
    "insta_df.isnull().sum()"
   ]
  },
  {
   "cell_type": "code",
   "execution_count": 12,
   "metadata": {},
   "outputs": [
    {
     "data": {
      "text/plain": [
       "Likes                    0.0\n",
       "Days passed from post    0.0\n",
       "Type                     0.0\n",
       "Numer of Tags            0.0\n",
       "Numer of Comments        0.0\n",
       "dtype: float64"
      ]
     },
     "execution_count": 12,
     "metadata": {},
     "output_type": "execute_result"
    }
   ],
   "source": [
    "# b. How many NaNs as a percentage of overall data\n",
    "insta_df.isnull().sum() * 100 / len(insta_df)"
   ]
  },
  {
   "cell_type": "markdown",
   "metadata": {},
   "source": [
    "    10- Divide the data into features (X), and target (y) --> your target is Likes  (2 points)"
   ]
  },
  {
   "cell_type": "code",
   "execution_count": 13,
   "metadata": {},
   "outputs": [
    {
     "data": {
      "text/html": [
       "<div>\n",
       "<style scoped>\n",
       "    .dataframe tbody tr th:only-of-type {\n",
       "        vertical-align: middle;\n",
       "    }\n",
       "\n",
       "    .dataframe tbody tr th {\n",
       "        vertical-align: top;\n",
       "    }\n",
       "\n",
       "    .dataframe thead th {\n",
       "        text-align: right;\n",
       "    }\n",
       "</style>\n",
       "<table border=\"1\" class=\"dataframe\">\n",
       "  <thead>\n",
       "    <tr style=\"text-align: right;\">\n",
       "      <th></th>\n",
       "      <th>Days passed from post</th>\n",
       "      <th>Type</th>\n",
       "      <th>Numer of Tags</th>\n",
       "      <th>Numer of Comments</th>\n",
       "    </tr>\n",
       "  </thead>\n",
       "  <tbody>\n",
       "    <tr>\n",
       "      <th>0</th>\n",
       "      <td>657</td>\n",
       "      <td>0</td>\n",
       "      <td>3</td>\n",
       "      <td>11</td>\n",
       "    </tr>\n",
       "    <tr>\n",
       "      <th>1</th>\n",
       "      <td>657</td>\n",
       "      <td>0</td>\n",
       "      <td>0</td>\n",
       "      <td>1</td>\n",
       "    </tr>\n",
       "    <tr>\n",
       "      <th>2</th>\n",
       "      <td>666</td>\n",
       "      <td>1</td>\n",
       "      <td>4</td>\n",
       "      <td>15</td>\n",
       "    </tr>\n",
       "    <tr>\n",
       "      <th>3</th>\n",
       "      <td>667</td>\n",
       "      <td>1</td>\n",
       "      <td>4</td>\n",
       "      <td>1</td>\n",
       "    </tr>\n",
       "    <tr>\n",
       "      <th>4</th>\n",
       "      <td>674</td>\n",
       "      <td>1</td>\n",
       "      <td>5</td>\n",
       "      <td>0</td>\n",
       "    </tr>\n",
       "    <tr>\n",
       "      <th>...</th>\n",
       "      <td>...</td>\n",
       "      <td>...</td>\n",
       "      <td>...</td>\n",
       "      <td>...</td>\n",
       "    </tr>\n",
       "    <tr>\n",
       "      <th>1995</th>\n",
       "      <td>186</td>\n",
       "      <td>0</td>\n",
       "      <td>0</td>\n",
       "      <td>84</td>\n",
       "    </tr>\n",
       "    <tr>\n",
       "      <th>1996</th>\n",
       "      <td>193</td>\n",
       "      <td>2</td>\n",
       "      <td>4</td>\n",
       "      <td>5</td>\n",
       "    </tr>\n",
       "    <tr>\n",
       "      <th>1997</th>\n",
       "      <td>194</td>\n",
       "      <td>0</td>\n",
       "      <td>4</td>\n",
       "      <td>13</td>\n",
       "    </tr>\n",
       "    <tr>\n",
       "      <th>1998</th>\n",
       "      <td>197</td>\n",
       "      <td>1</td>\n",
       "      <td>0</td>\n",
       "      <td>38</td>\n",
       "    </tr>\n",
       "    <tr>\n",
       "      <th>1999</th>\n",
       "      <td>198</td>\n",
       "      <td>1</td>\n",
       "      <td>5</td>\n",
       "      <td>5</td>\n",
       "    </tr>\n",
       "  </tbody>\n",
       "</table>\n",
       "<p>2000 rows × 4 columns</p>\n",
       "</div>"
      ],
      "text/plain": [
       "      Days passed from post  Type  Numer of Tags  Numer of Comments\n",
       "0                       657     0              3                 11\n",
       "1                       657     0              0                  1\n",
       "2                       666     1              4                 15\n",
       "3                       667     1              4                  1\n",
       "4                       674     1              5                  0\n",
       "...                     ...   ...            ...                ...\n",
       "1995                    186     0              0                 84\n",
       "1996                    193     2              4                  5\n",
       "1997                    194     0              4                 13\n",
       "1998                    197     1              0                 38\n",
       "1999                    198     1              5                  5\n",
       "\n",
       "[2000 rows x 4 columns]"
      ]
     },
     "execution_count": 13,
     "metadata": {},
     "output_type": "execute_result"
    }
   ],
   "source": [
    "# your featuers X:\n",
    "X = insta_df.loc[:, insta_df.columns != 'Likes']\n",
    "##\n",
    "X"
   ]
  },
  {
   "cell_type": "code",
   "execution_count": 14,
   "metadata": {},
   "outputs": [
    {
     "data": {
      "text/plain": [
       "0       506\n",
       "1       385\n",
       "2       373\n",
       "3       312\n",
       "4       513\n",
       "       ... \n",
       "1995     58\n",
       "1996     81\n",
       "1997    251\n",
       "1998    962\n",
       "1999    179\n",
       "Name: Likes, Length: 2000, dtype: int64"
      ]
     },
     "execution_count": 14,
     "metadata": {},
     "output_type": "execute_result"
    }
   ],
   "source": [
    "# your target y:\n",
    "y=insta_df.loc[:,'Likes']\n",
    "##\n",
    "y"
   ]
  },
  {
   "cell_type": "markdown",
   "metadata": {},
   "source": [
    "    11- Checking for Multicollinearity for features (X) using a correlation matrix. (1 points)"
   ]
  },
  {
   "cell_type": "code",
   "execution_count": 15,
   "metadata": {},
   "outputs": [
    {
     "data": {
      "text/html": [
       "<style  type=\"text/css\" >\n",
       "#T_3c556_row0_col0,#T_3c556_row1_col1,#T_3c556_row2_col2,#T_3c556_row3_col3{\n",
       "            background-color:  #b40426;\n",
       "            color:  #f1f1f1;\n",
       "        }#T_3c556_row0_col1,#T_3c556_row0_col2,#T_3c556_row0_col3,#T_3c556_row2_col0{\n",
       "            background-color:  #3b4cc0;\n",
       "            color:  #f1f1f1;\n",
       "        }#T_3c556_row1_col0{\n",
       "            background-color:  #3f53c6;\n",
       "            color:  #f1f1f1;\n",
       "        }#T_3c556_row1_col2{\n",
       "            background-color:  #6687ed;\n",
       "            color:  #000000;\n",
       "        }#T_3c556_row1_col3{\n",
       "            background-color:  #5b7ae5;\n",
       "            color:  #000000;\n",
       "        }#T_3c556_row2_col1{\n",
       "            background-color:  #6180e9;\n",
       "            color:  #000000;\n",
       "        }#T_3c556_row2_col3{\n",
       "            background-color:  #6a8bef;\n",
       "            color:  #000000;\n",
       "        }#T_3c556_row3_col0{\n",
       "            background-color:  #465ecf;\n",
       "            color:  #f1f1f1;\n",
       "        }#T_3c556_row3_col1{\n",
       "            background-color:  #6384eb;\n",
       "            color:  #000000;\n",
       "        }#T_3c556_row3_col2{\n",
       "            background-color:  #779af7;\n",
       "            color:  #000000;\n",
       "        }</style><table id=\"T_3c556_\" ><thead>    <tr>        <th class=\"blank level0\" ></th>        <th class=\"col_heading level0 col0\" >Days passed from post</th>        <th class=\"col_heading level0 col1\" >Type</th>        <th class=\"col_heading level0 col2\" >Numer of Tags</th>        <th class=\"col_heading level0 col3\" >Numer of Comments</th>    </tr></thead><tbody>\n",
       "                <tr>\n",
       "                        <th id=\"T_3c556_level0_row0\" class=\"row_heading level0 row0\" >Days passed from post</th>\n",
       "                        <td id=\"T_3c556_row0_col0\" class=\"data row0 col0\" >1.000000</td>\n",
       "                        <td id=\"T_3c556_row0_col1\" class=\"data row0 col1\" >-0.150000</td>\n",
       "                        <td id=\"T_3c556_row0_col2\" class=\"data row0 col2\" >-0.170000</td>\n",
       "                        <td id=\"T_3c556_row0_col3\" class=\"data row0 col3\" >-0.120000</td>\n",
       "            </tr>\n",
       "            <tr>\n",
       "                        <th id=\"T_3c556_level0_row1\" class=\"row_heading level0 row1\" >Type</th>\n",
       "                        <td id=\"T_3c556_row1_col0\" class=\"data row1 col0\" >-0.150000</td>\n",
       "                        <td id=\"T_3c556_row1_col1\" class=\"data row1 col1\" >1.000000</td>\n",
       "                        <td id=\"T_3c556_row1_col2\" class=\"data row1 col2\" >-0.010000</td>\n",
       "                        <td id=\"T_3c556_row1_col3\" class=\"data row1 col3\" >0.000000</td>\n",
       "            </tr>\n",
       "            <tr>\n",
       "                        <th id=\"T_3c556_level0_row2\" class=\"row_heading level0 row2\" >Numer of Tags</th>\n",
       "                        <td id=\"T_3c556_row2_col0\" class=\"data row2 col0\" >-0.170000</td>\n",
       "                        <td id=\"T_3c556_row2_col1\" class=\"data row2 col1\" >-0.010000</td>\n",
       "                        <td id=\"T_3c556_row2_col2\" class=\"data row2 col2\" >1.000000</td>\n",
       "                        <td id=\"T_3c556_row2_col3\" class=\"data row2 col3\" >0.050000</td>\n",
       "            </tr>\n",
       "            <tr>\n",
       "                        <th id=\"T_3c556_level0_row3\" class=\"row_heading level0 row3\" >Numer of Comments</th>\n",
       "                        <td id=\"T_3c556_row3_col0\" class=\"data row3 col0\" >-0.120000</td>\n",
       "                        <td id=\"T_3c556_row3_col1\" class=\"data row3 col1\" >0.000000</td>\n",
       "                        <td id=\"T_3c556_row3_col2\" class=\"data row3 col2\" >0.050000</td>\n",
       "                        <td id=\"T_3c556_row3_col3\" class=\"data row3 col3\" >1.000000</td>\n",
       "            </tr>\n",
       "    </tbody></table>"
      ],
      "text/plain": [
       "<pandas.io.formats.style.Styler at 0x135d743a9d0>"
      ]
     },
     "execution_count": 15,
     "metadata": {},
     "output_type": "execute_result"
    }
   ],
   "source": [
    "# write your code here:\n",
    "corr = X.corr().round(2)\n",
    "corr.style.background_gradient(cmap='coolwarm')\n",
    "#sns.set(rc={'figure.figsize':(4,4)})\n",
    "#sns.heatmap(data=corr, annot=True)\n"
   ]
  },
  {
   "cell_type": "markdown",
   "metadata": {},
   "source": [
    "    12- From the above pairplot, what did you observe? ( 1 points)\n",
    "\n",
    "##### Write your answer here:\n",
    "\n",
    "-- From the above pairplot, I observe that.\n",
    "--Number of Tags <-> Number Of Comments have good corelation comared to other features (0.05)\n",
    "\n",
    "\n"
   ]
  },
  {
   "cell_type": "markdown",
   "metadata": {},
   "source": [
    "    13- Use a scatter plot to check each feature's relationship with the target variable, Likes. (1 points)"
   ]
  },
  {
   "cell_type": "code",
   "execution_count": 16,
   "metadata": {},
   "outputs": [
    {
     "data": {
      "image/png": "[encoded data removed]",
      "text/plain": [
       "<Figure size 2520x1800 with 4 Axes>"
      ]
     },
     "metadata": {
      "needs_background": "light"
     },
     "output_type": "display_data"
    }
   ],
   "source": [
    "# write your code here\n",
    "plt.figure(figsize = ( 35 , 25 )) \n",
    "features = list (X) \n",
    "for i, col in enumerate (features): \n",
    "    plt.subplot(3 , 6 ,i +1 ) \n",
    "    x = insta_df[col] \n",
    "    y = y \n",
    "    plt.scatter(x, y, marker = 'o' )\n",
    "    plt.xlabel(col) \n",
    "    plt.ylabel( 'Likes' )"
   ]
  },
  {
   "cell_type": "markdown",
   "metadata": {},
   "source": [
    "    14- From the above pairplot, what did you observe? ( 1 points)\n",
    "\n",
    "\n",
    "##### Write your answer here:\n",
    "\n",
    "-- I observe the relation between days passed from the post and likes are in a negative correlation as it tends more towardsfrom high to low data points. The realtion between likes and Types have only catgorigcal data points, such as type of instagram posts. \n",
    "The number of Tags and likes relation have an uneven distribution data points. Such as from 2000 likes to 10000 likes only when nearing more than 28 Tags.\n",
    "\n",
    "The scatter plot of number of comments and Likes have more constant data points, which tends to more within 0 and 200 comments, only few data points move away from 200 comments. \n",
    "\n",
    "Overall due to uneven distrubtion of data inference this scatter plot is difficult and it is clearly observed that the data points not distributed uniformly.\n",
    "\n",
    "\n",
    "--"
   ]
  },
  {
   "cell_type": "markdown",
   "metadata": {},
   "source": [
    "    15- Display the target distribution using histogram (1 points)"
   ]
  },
  {
   "cell_type": "code",
   "execution_count": 17,
   "metadata": {},
   "outputs": [
    {
     "data": {
      "text/plain": [
       "<AxesSubplot:>"
      ]
     },
     "execution_count": 17,
     "metadata": {},
     "output_type": "execute_result"
    },
    {
     "data": {
      "image/png": "[encoded data removed]",
      "text/plain": [
       "<Figure size 432x288 with 1 Axes>"
      ]
     },
     "metadata": {
      "needs_background": "light"
     },
     "output_type": "display_data"
    }
   ],
   "source": [
    "# write your code here:\n",
    "y.hist()"
   ]
  },
  {
   "cell_type": "markdown",
   "metadata": {},
   "source": [
    "    16- From the above histogram, what did you observe about the target distribution? ( 1 point)\n",
    "    \n",
    "\n",
    "##### Write your answer here:\n",
    "\n",
    "-- From the above histogram , I observe that the target is unevenly distributed. Where Most of the data points have likes within 1000, only few data points is more than 1000.\n",
    "\n",
    "\n",
    "--"
   ]
  },
  {
   "cell_type": "markdown",
   "metadata": {},
   "source": [
    "    17-Transfer the target y into log to have the normal distributions: (1 point)"
   ]
  },
  {
   "cell_type": "code",
   "execution_count": 18,
   "metadata": {},
   "outputs": [
    {
     "data": {
      "text/plain": [
       "<AxesSubplot:>"
      ]
     },
     "execution_count": 18,
     "metadata": {},
     "output_type": "execute_result"
    },
    {
     "data": {
      "image/png": "[encoded data removed]",
      "text/plain": [
       "<Figure size 432x288 with 1 Axes>"
      ]
     },
     "metadata": {
      "needs_background": "light"
     },
     "output_type": "display_data"
    }
   ],
   "source": [
    "#transfer the target y into log\n",
    "y=np.log(y)\n",
    "y\n",
    "y.hist() #Verifying how it is distributed now"
   ]
  },
  {
   "cell_type": "markdown",
   "metadata": {},
   "source": [
    "### Preparing the machine learning pipeline\n"
   ]
  },
  {
   "cell_type": "markdown",
   "metadata": {},
   "source": [
    "    18- Splitting the data into training 80% and testing sets 20%. (1 point)\n",
    "        * print the sizes of our training and test set to verify if the splitting has occurred properly. (1 point)"
   ]
  },
  {
   "cell_type": "code",
   "execution_count": 19,
   "metadata": {},
   "outputs": [
    {
     "name": "stdout",
     "output_type": "stream",
     "text": [
      "(1600, 4)\n",
      "(400, 4)\n",
      "(1600,)\n",
      "(400,)\n"
     ]
    }
   ],
   "source": [
    "# Splitting the data:\n",
    "from sklearn.model_selection import train_test_split\n",
    "\n",
    "x_train, x_test, y_train, y_test = train_test_split(X,y, test_size=0.2, random_state=42)\n",
    "\n",
    "# print the sizes of our training and test set:\n",
    "print(x_train.shape)\n",
    "print(x_test.shape)\n",
    "print(y_train.shape)\n",
    "print(y_test.shape)"
   ]
  },
  {
   "cell_type": "markdown",
   "metadata": {},
   "source": [
    "    19- Use Pipeline class with the cross-validation to fit the scaling on only the training dataset and evaluate the linear regression model, (Use k=10 and MSE as your metric)( 2 point)\n",
    "\n",
    "        * 'neg_mean_squared_error' returns the negated value of the MSE; make sure to take the absolute to get the positive one (1 point)\n",
    "        * print the average MSE (1 point)"
   ]
  },
  {
   "cell_type": "code",
   "execution_count": 20,
   "metadata": {},
   "outputs": [
    {
     "name": "stdout",
     "output_type": "stream",
     "text": [
      "Average 10-Fold CV MSE Score: 1.269653249692227\n"
     ]
    }
   ],
   "source": [
    "# writer your code here:\n",
    "from sklearn.linear_model import LinearRegression\n",
    "from sklearn.preprocessing import StandardScaler\n",
    "from sklearn.model_selection import cross_val_score\n",
    "\n",
    "\n",
    "from sklearn.pipeline import make_pipeline\n",
    "pipeline = make_pipeline(StandardScaler(), LinearRegression())\n",
    "scores_pipe_2 = cross_val_score(pipeline, x_train, y_train,cv=10, scoring='neg_mean_squared_error') # this return the negated value of the MSE, make sure to multiply it by -1 to get the positive one\n",
    "print(\"Average 10-Fold CV MSE Score: {}\".format(-1*(np.mean(scores_pipe_2)) ))"
   ]
  },
  {
   "cell_type": "markdown",
   "metadata": {},
   "source": [
    "    20- Hyperparameters tuning using GridSearchCV (Use k=10 and MSE as your metric):\n",
    "\n",
    "        A. Ridge regression:\n",
    "            * Find out the best value of α’s (-3, -2, 1, 2, 3) for Ridge regression (1 point)\n",
    "            * print the best score and the best alpha value (1 point)"
   ]
  },
  {
   "cell_type": "code",
   "execution_count": 21,
   "metadata": {},
   "outputs": [
    {
     "name": "stdout",
     "output_type": "stream",
     "text": [
      "Best CV score: -0.9283\n",
      "Best parameter : {'alpha': 0.037037037037037035}\n"
     ]
    }
   ],
   "source": [
    "# write your code here:\n",
    "from sklearn.linear_model import Ridge\n",
    "from sklearn.model_selection import GridSearchCV\n",
    "ridge = Ridge(normalize=True)\n",
    "param_grid = {'alpha': np.logspace(-3,-2,1,2,3)}\n",
    "grid = GridSearchCV(ridge, param_grid, scoring='neg_mean_absolute_error', cv=10, return_train_score=True)\n",
    "grid.fit(x_train,y_train)\n",
    "best_score = float(format(grid.best_score_, '.4f'))\n",
    "print('Best CV score: {:.4f}'.format(grid.best_score_))\n",
    "print('Best parameter :',grid.best_params_)"
   ]
  },
  {
   "cell_type": "markdown",
   "metadata": {},
   "source": [
    "        B. Lasso: \n",
    "            * Find out the best value of α’s (-3, -2, 1, 2, 3) for Lasso method. (1 point)\n",
    "            * print the best score and the best alpha value (1 point)"
   ]
  },
  {
   "cell_type": "code",
   "execution_count": 22,
   "metadata": {},
   "outputs": [
    {
     "name": "stdout",
     "output_type": "stream",
     "text": [
      "Best CV score: -1.0902\n",
      "Best parameter : {'alpha': 0.037037037037037035}\n"
     ]
    }
   ],
   "source": [
    "# write your code here:\n",
    "from sklearn.linear_model import Lasso\n",
    "from sklearn.model_selection import GridSearchCV\n",
    "lasso = Lasso(max_iter=10000,normalize=True)\n",
    "param_grid = {'alpha': np.logspace(-3,-2,1,2,3)}\n",
    "grid = GridSearchCV(lasso, param_grid, scoring='neg_mean_absolute_error', cv=10, return_train_score=True)\n",
    "grid.fit(x_train,y_train)\n",
    "best_score = float(format(grid.best_score_, '.4f'))\n",
    "print('Best CV score: {:.4f}'.format(grid.best_score_))\n",
    "print('Best parameter :',grid.best_params_)"
   ]
  },
  {
   "cell_type": "markdown",
   "metadata": {},
   "source": [
    "#### Robust regression"
   ]
  },
  {
   "cell_type": "markdown",
   "metadata": {},
   "source": [
    "      21- Use Pipeline class with the cross-validation with k= 10 to fit the scaling on only the training dataset, and evaluate the models using 'neg_mean_squared_error':\n",
    "    \n",
    "            A.  The Huber regression model module ( 1 points)\n",
    "                * print the absolute average MSE (1 point)"
   ]
  },
  {
   "cell_type": "code",
   "execution_count": 23,
   "metadata": {},
   "outputs": [
    {
     "name": "stdout",
     "output_type": "stream",
     "text": [
      "Average 10-Fold CV MSE Score for Huber regression: 0.9112238972166358\n"
     ]
    }
   ],
   "source": [
    "# write your code here:\n",
    "from sklearn.linear_model import HuberRegressor, RANSACRegressor\n",
    "# write your cod# evaluate model\n",
    "pipeline_huber = make_pipeline(StandardScaler(), HuberRegressor())\n",
    "scores_huber = cross_val_score(pipeline_huber, x_train, y_train, scoring='neg_mean_absolute_error', cv=10)\n",
    "#force scores to be positive e here:\n",
    "print(\"Average 10-Fold CV MSE Score for Huber regression: {}\".format(absolute((np.mean(scores_huber)) )))\n"
   ]
  },
  {
   "cell_type": "markdown",
   "metadata": {},
   "source": [
    "        B.  The RANSAC regression model modle ( 1 point)\n",
    "            * print the absolute avarge MSE (1 point)"
   ]
  },
  {
   "cell_type": "code",
   "execution_count": 24,
   "metadata": {},
   "outputs": [
    {
     "name": "stdout",
     "output_type": "stream",
     "text": [
      "Average 10-Fold CV MSE Score for RANSAC regression: 1.098813276695524\n"
     ]
    }
   ],
   "source": [
    "# evaluate model\n",
    "pipeline_ransac = make_pipeline(StandardScaler(),RANSACRegressor())\n",
    "scores_RANSAC = cross_val_score(pipeline_ransac,x_train, y_train, scoring='neg_mean_absolute_error', cv=10)\n",
    "#force scores to be positive\n",
    "print(\"Average 10-Fold CV MSE Score for RANSAC regression: {}\".format(absolute((np.mean(scores_RANSAC )) )))"
   ]
  },
  {
   "cell_type": "markdown",
   "metadata": {},
   "source": [
    "    22- From the above models you validated using cross-validation, which model performed very well on average? (1 point)         \n",
    "\n",
    "##### Write your answer here:\n",
    "\n",
    "-- Huber performed well beacuse it has lowest mean squared error (MSE) of \n",
    "\n",
    "\n",
    "--"
   ]
  },
  {
   "cell_type": "markdown",
   "metadata": {},
   "source": [
    "    23- Use the Best model to build/fit your final model using your train-data.(5 points)"
   ]
  },
  {
   "cell_type": "code",
   "execution_count": 25,
   "metadata": {},
   "outputs": [],
   "source": [
    "# write your code here:\n",
    "huber = HuberRegressor()\n",
    "model = huber.fit(x_train, y_train)\n"
   ]
  },
  {
   "cell_type": "markdown",
   "metadata": {},
   "source": [
    "    24- Predict the number of likes for test data and compute the MSE (5 points)"
   ]
  },
  {
   "cell_type": "code",
   "execution_count": 1,
   "metadata": {},
   "outputs": [
    {
     "ename": "NameError",
     "evalue": "name 'model' is not defined",
     "output_type": "error",
     "traceback": [
      "\u001b[1;31m---------------------------------------------------------------------------\u001b[0m",
      "\u001b[1;31mNameError\u001b[0m                                 Traceback (most recent call last)",
      "\u001b[1;32m<ipython-input-1-2a270851cb71>\u001b[0m in \u001b[0;36m<module>\u001b[1;34m\u001b[0m\n\u001b[0;32m      1\u001b[0m \u001b[1;31m# write your code here:\u001b[0m\u001b[1;33m\u001b[0m\u001b[1;33m\u001b[0m\u001b[1;33m\u001b[0m\u001b[0m\n\u001b[0;32m      2\u001b[0m \u001b[1;32mfrom\u001b[0m \u001b[0msklearn\u001b[0m\u001b[1;33m.\u001b[0m\u001b[0mmetrics\u001b[0m \u001b[1;32mimport\u001b[0m \u001b[0mmean_squared_error\u001b[0m\u001b[1;33m\u001b[0m\u001b[1;33m\u001b[0m\u001b[0m\n\u001b[1;32m----> 3\u001b[1;33m \u001b[0my_pred\u001b[0m \u001b[1;33m=\u001b[0m \u001b[0mmodel\u001b[0m\u001b[1;33m.\u001b[0m\u001b[0mpredict\u001b[0m\u001b[1;33m(\u001b[0m\u001b[0mx_test\u001b[0m\u001b[1;33m)\u001b[0m\u001b[1;33m\u001b[0m\u001b[1;33m\u001b[0m\u001b[0m\n\u001b[0m\u001b[0;32m      4\u001b[0m \u001b[0mprint\u001b[0m\u001b[1;33m(\u001b[0m\u001b[1;34m'Mean Squared Error(MSE):%.2f'\u001b[0m\u001b[1;33m%\u001b[0m\u001b[0mmean_squared_error\u001b[0m\u001b[1;33m(\u001b[0m\u001b[0my_test\u001b[0m\u001b[1;33m,\u001b[0m\u001b[0my_pred\u001b[0m\u001b[1;33m)\u001b[0m\u001b[1;33m)\u001b[0m\u001b[1;33m\u001b[0m\u001b[1;33m\u001b[0m\u001b[0m\n",
      "\u001b[1;31mNameError\u001b[0m: name 'model' is not defined"
     ]
    }
   ],
   "source": [
    "# write your code here:\n",
    "from sklearn.metrics import mean_squared_error\n",
    "y_pred = model.predict(x_test)\n",
    "print('Mean Squared Error(MSE):%.2f'%mean_squared_error(y_test,y_pred))"
   ]
  },
  {
   "cell_type": "markdown",
   "metadata": {},
   "source": [
    "    25- Write a conclusion about building a good model for predicting the number of likes using Instagram Users Datetime Posts. (10 points)\n",
    "\n",
    "       your conclusion should include: \n",
    "        * why a specific model performs better than other models and why a regression algorithm works well with this dataset.\n",
    "        \n",
    "        Each model approached with their own method,\n",
    "        * Did Robust regression algorithms outperformance the linear regression baseline or linear regression after applying Shrinkage Methods? Why?\n",
    "\n",
    "    Write a summary of what you understand about linear regression and cross-validation. "
   ]
  },
  {
   "cell_type": "markdown",
   "metadata": {},
   "source": [
    "-- \n",
    "\n",
    "-- "
   ]
  },
  {
   "cell_type": "markdown",
   "metadata": {},
   "source": [
    "---\n",
    "## All set\n",
    "\n",
    "Please make sure you execute each cell before you submit your file; this is important becuse if your code didn't work on our machine for an unknown reason, it would be better to see the result rather than losing some points or wasting time to contact you to fix this issue. \n",
    "\n",
    "What to submit:\n",
    "\n",
    "* Your Jupyter Notebook file.\n",
    "* Name your file as firstname_lastname_CS_1 . \n",
    "---"
   ]
  }
 ],
 "metadata": {
  "interpreter": {
   "hash": "9be90a182e443121e767cfcadea61fa0eeced8ec62a9bd8ae9861f6c1d839655"
  },
  "kernelspec": {
   "display_name": "Python 3",
   "language": "python",
   "name": "python3"
  },
  "language_info": {
   "codemirror_mode": {
    "name": "ipython",
    "version": 3
   },
   "file_extension": ".py",
   "mimetype": "text/x-python",
   "name": "python",
   "nbconvert_exporter": "python",
   "pygments_lexer": "ipython3",
   "version": "3.8.8"
  }
 },
 "nbformat": 4,
 "nbformat_minor": 2
}
